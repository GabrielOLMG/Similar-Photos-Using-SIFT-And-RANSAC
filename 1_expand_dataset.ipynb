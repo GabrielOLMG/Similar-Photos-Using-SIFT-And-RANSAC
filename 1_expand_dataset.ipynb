{
 "cells": [
  {
   "cell_type": "markdown",
   "metadata": {},
   "source": [
    "# Packages"
   ]
  },
  {
   "cell_type": "code",
   "execution_count": 1,
   "metadata": {},
   "outputs": [],
   "source": [
    "import os\n",
    "import tqdm\n",
    "import random \n",
    "import pandas as pd\n",
    "\n",
    "from PIL import Image"
   ]
  },
  {
   "cell_type": "markdown",
   "metadata": {},
   "source": [
    "# Global Variables"
   ]
  },
  {
   "cell_type": "code",
   "execution_count": 2,
   "metadata": {},
   "outputs": [],
   "source": [
    "PATH_DATA = \"data\"\n",
    "PATH_WATERMARKS = os.path.join(PATH_DATA,\"watermark\")\n",
    "PATH_IMAGES_CASES = os.path.join(PATH_DATA,\"cases\")\n",
    "PATH_CSV_OUTPUTS = os.path.join(PATH_DATA,\"csv_outputs\")"
   ]
  },
  {
   "cell_type": "markdown",
   "metadata": {},
   "source": [
    "# Functions"
   ]
  },
  {
   "cell_type": "markdown",
   "metadata": {},
   "source": [
    "## Function to add watermark to the image"
   ]
  },
  {
   "cell_type": "code",
   "execution_count": 3,
   "metadata": {},
   "outputs": [],
   "source": [
    "def apply_watermark(image, watermark, transparency=1.0):\n",
    "    # Cria uma cópia da marca d'água para garantir que a original não seja alterada\n",
    "    watermark_copy = watermark.copy()\n",
    "\n",
    "    if image.mode != 'RGBA':\n",
    "        image = image.convert('RGBA')\n",
    "    if watermark_copy.mode != 'RGBA':\n",
    "        watermark_copy = watermark_copy.convert('RGBA')\n",
    "\n",
    "    # Modifica a transparência apenas na cópia\n",
    "    alpha = watermark_copy.split()[3]\n",
    "    alpha = Image.eval(alpha, lambda a: int(a * transparency))\n",
    "    watermark_copy.putalpha(alpha)\n",
    "\n",
    "    # Redimensiona a cópia da marca d'água\n",
    "    scale_factor = random.uniform(0.1, 0.5)  \n",
    "    new_size = (int(watermark_copy.width * scale_factor), int(watermark_copy.height * scale_factor))\n",
    "    watermark_copy = watermark_copy.resize(new_size, Image.Resampling.LANCZOS)\n",
    "\n",
    "    # Calcula a posição e aplica a marca d'água na imagem\n",
    "    position = ((image.width - watermark_copy.width) // 2, (image.height - watermark_copy.height) // 2)\n",
    "    combined = Image.alpha_composite(image, Image.new('RGBA', image.size))\n",
    "    combined.paste(watermark_copy, position, watermark_copy)\n",
    "\n",
    "    return combined"
   ]
  },
  {
   "cell_type": "markdown",
   "metadata": {},
   "source": [
    "# Oppening Watermarks\n",
    "\n",
    "Important Variables: \n",
    "- **watermarks_dict**: \n",
    "    - Dictionary where the key contains the watermark path and the value contains the loaded watermark"
   ]
  },
  {
   "cell_type": "code",
   "execution_count": 4,
   "metadata": {},
   "outputs": [
    {
     "name": "stderr",
     "output_type": "stream",
     "text": [
      "100%|██████████| 2/2 [00:00<00:00, 49.05it/s]\n"
     ]
    }
   ],
   "source": [
    "watermarks_dict = {}\n",
    "for watermark_name in tqdm.tqdm(os.listdir(PATH_WATERMARKS)):\n",
    "    watermark_path = os.path.join(PATH_WATERMARKS, watermark_name)\n",
    "    watermark = Image.open(watermark_path)\n",
    "    \n",
    "    watermarks_dict[watermark_name] = watermark\n"
   ]
  },
  {
   "cell_type": "markdown",
   "metadata": {},
   "source": [
    "# Uploading images and placing watermarks\n",
    "\n",
    "Important Variables: \n",
    "- **images_path_df**: \n",
    "    - Dataframe that contains the images paths. \n",
    "    - We will use this DataFrame to control the path of the images that will be created.\n",
    "    - We will also save this dataframe whenever it is changed, so we don't have to run this code again"
   ]
  },
  {
   "cell_type": "markdown",
   "metadata": {},
   "source": [
    "## Creating Original Dataframe"
   ]
  },
  {
   "cell_type": "code",
   "execution_count": 5,
   "metadata": {},
   "outputs": [],
   "source": [
    "def get_watermark_image(image_path, watermark,i, transparency=1.0):\n",
    "    image = Image.open(image_path)\n",
    "    # Aplicando a marca d'água\n",
    "    image_watermark = apply_watermark(image, watermark, transparency=transparency)\n",
    "    # Extrai o nome do arquivo e a extensão\n",
    "    path, type_ = image_path.rsplit(\".\", 1)\n",
    "    watermark_path = f\"{path}_watermark_{i}.{type_}\"\n",
    "\n",
    "    # Verifica o tipo de arquivo e ajusta se necessário\n",
    "    if type_.lower() == 'jpeg' or type_.lower() == 'jpg':\n",
    "        if image_watermark.mode == 'RGBA':\n",
    "            # Converte para RGB se for salvar como JPEG\n",
    "            image_watermark = image_watermark.convert('RGB')\n",
    "    image_watermark.save(watermark_path)\n",
    "    return watermark_path"
   ]
  },
  {
   "cell_type": "code",
   "execution_count": 7,
   "metadata": {},
   "outputs": [
    {
     "name": "stderr",
     "output_type": "stream",
     "text": [
      "100%|██████████| 97/97 [00:12<00:00,  7.80it/s]\n"
     ]
    }
   ],
   "source": [
    "results = []\n",
    "for case_name in tqdm.tqdm(os.listdir(PATH_IMAGES_CASES)):\n",
    "    case_path = os.path.join(PATH_IMAGES_CASES, case_name)\n",
    "    result = [int(case_name.split(\"_\")[-1])]\n",
    "    for image_name in os.listdir(case_path):\n",
    "        image_path = os.path.join(case_path, image_name)\n",
    "        result.append(image_path)\n",
    "        for i, (watermark_path, watermark) in enumerate(watermarks_dict.items()):\n",
    "            image_watermark_path = get_watermark_image(image_path, watermark,i, transparency=30)\n",
    "            result.append(image_watermark_path)\n",
    "    results.append(result)"
   ]
  },
  {
   "cell_type": "code",
   "execution_count": 8,
   "metadata": {},
   "outputs": [
    {
     "data": {
      "text/plain": [
       "[96,\n",
       " 'data\\\\cases\\\\case_96\\\\case_96__image_0.jpg',\n",
       " 'data\\\\cases\\\\case_96\\\\case_96__image_0_watermark_0.jpg',\n",
       " 'data\\\\cases\\\\case_96\\\\case_96__image_0_watermark_1.jpg',\n",
       " 'data\\\\cases\\\\case_96\\\\case_96__image_1.jpg',\n",
       " 'data\\\\cases\\\\case_96\\\\case_96__image_1_watermark_0.jpg',\n",
       " 'data\\\\cases\\\\case_96\\\\case_96__image_1_watermark_1.jpg']"
      ]
     },
     "execution_count": 8,
     "metadata": {},
     "output_type": "execute_result"
    }
   ],
   "source": [
    "result"
   ]
  },
  {
   "cell_type": "code",
   "execution_count": 9,
   "metadata": {},
   "outputs": [],
   "source": [
    "images_path_df = pd.DataFrame(results, columns=[\"CASE\", \"IMAGE_1_PATH\",\"IMAGE_1_WATERMARK_1_PATH\",\"IMAGE_1_WATERMARK_2_PATH\",  \"IMAGE_2_PATH\", \"IMAGE_2_WATERMARK_1_PATH\", \"IMAGE_2_WATERMARK_2_PATH\"]).sort_values(\"CASE\")\n",
    "images_path_df.to_csv(os.path.join(PATH_CSV_OUTPUTS, \"images_path.csv\"), index=False)"
   ]
  },
  {
   "cell_type": "code",
   "execution_count": 10,
   "metadata": {},
   "outputs": [
    {
     "data": {
      "text/html": [
       "<div>\n",
       "<style scoped>\n",
       "    .dataframe tbody tr th:only-of-type {\n",
       "        vertical-align: middle;\n",
       "    }\n",
       "\n",
       "    .dataframe tbody tr th {\n",
       "        vertical-align: top;\n",
       "    }\n",
       "\n",
       "    .dataframe thead th {\n",
       "        text-align: right;\n",
       "    }\n",
       "</style>\n",
       "<table border=\"1\" class=\"dataframe\">\n",
       "  <thead>\n",
       "    <tr style=\"text-align: right;\">\n",
       "      <th></th>\n",
       "      <th>CASE</th>\n",
       "      <th>IMAGE_1_PATH</th>\n",
       "      <th>IMAGE_1_WATERMARK_1_PATH</th>\n",
       "      <th>IMAGE_1_WATERMARK_2_PATH</th>\n",
       "      <th>IMAGE_2_PATH</th>\n",
       "      <th>IMAGE_2_WATERMARK_1_PATH</th>\n",
       "      <th>IMAGE_2_WATERMARK_2_PATH</th>\n",
       "    </tr>\n",
       "  </thead>\n",
       "  <tbody>\n",
       "    <tr>\n",
       "      <th>0</th>\n",
       "      <td>0</td>\n",
       "      <td>data\\cases\\case_0\\case_0__image_0.jpg</td>\n",
       "      <td>data\\cases\\case_0\\case_0__image_0_watermark_0.jpg</td>\n",
       "      <td>data\\cases\\case_0\\case_0__image_0_watermark_1.jpg</td>\n",
       "      <td>data\\cases\\case_0\\case_0__image_1.jpg</td>\n",
       "      <td>data\\cases\\case_0\\case_0__image_1_watermark_0.jpg</td>\n",
       "      <td>data\\cases\\case_0\\case_0__image_1_watermark_1.jpg</td>\n",
       "    </tr>\n",
       "    <tr>\n",
       "      <th>1</th>\n",
       "      <td>1</td>\n",
       "      <td>data\\cases\\case_1\\case_1__image_0.jpg</td>\n",
       "      <td>data\\cases\\case_1\\case_1__image_0_watermark_0.jpg</td>\n",
       "      <td>data\\cases\\case_1\\case_1__image_0_watermark_1.jpg</td>\n",
       "      <td>data\\cases\\case_1\\case_1__image_1.jpg</td>\n",
       "      <td>data\\cases\\case_1\\case_1__image_1_watermark_0.jpg</td>\n",
       "      <td>data\\cases\\case_1\\case_1__image_1_watermark_1.jpg</td>\n",
       "    </tr>\n",
       "    <tr>\n",
       "      <th>12</th>\n",
       "      <td>2</td>\n",
       "      <td>data\\cases\\case_2\\case_2__image_0.jpg</td>\n",
       "      <td>data\\cases\\case_2\\case_2__image_0_watermark_0.jpg</td>\n",
       "      <td>data\\cases\\case_2\\case_2__image_0_watermark_1.jpg</td>\n",
       "      <td>data\\cases\\case_2\\case_2__image_1.jpg</td>\n",
       "      <td>data\\cases\\case_2\\case_2__image_1_watermark_0.jpg</td>\n",
       "      <td>data\\cases\\case_2\\case_2__image_1_watermark_1.jpg</td>\n",
       "    </tr>\n",
       "    <tr>\n",
       "      <th>23</th>\n",
       "      <td>3</td>\n",
       "      <td>data\\cases\\case_3\\case_3__image_0.jpg</td>\n",
       "      <td>data\\cases\\case_3\\case_3__image_0_watermark_0.jpg</td>\n",
       "      <td>data\\cases\\case_3\\case_3__image_0_watermark_1.jpg</td>\n",
       "      <td>data\\cases\\case_3\\case_3__image_1.jpg</td>\n",
       "      <td>data\\cases\\case_3\\case_3__image_1_watermark_0.jpg</td>\n",
       "      <td>data\\cases\\case_3\\case_3__image_1_watermark_1.jpg</td>\n",
       "    </tr>\n",
       "    <tr>\n",
       "      <th>34</th>\n",
       "      <td>4</td>\n",
       "      <td>data\\cases\\case_4\\case_4__image_0.jpg</td>\n",
       "      <td>data\\cases\\case_4\\case_4__image_0_watermark_0.jpg</td>\n",
       "      <td>data\\cases\\case_4\\case_4__image_0_watermark_1.jpg</td>\n",
       "      <td>data\\cases\\case_4\\case_4__image_1.jpg</td>\n",
       "      <td>data\\cases\\case_4\\case_4__image_1_watermark_0.jpg</td>\n",
       "      <td>data\\cases\\case_4\\case_4__image_1_watermark_1.jpg</td>\n",
       "    </tr>\n",
       "    <tr>\n",
       "      <th>...</th>\n",
       "      <td>...</td>\n",
       "      <td>...</td>\n",
       "      <td>...</td>\n",
       "      <td>...</td>\n",
       "      <td>...</td>\n",
       "      <td>...</td>\n",
       "      <td>...</td>\n",
       "    </tr>\n",
       "    <tr>\n",
       "      <th>92</th>\n",
       "      <td>92</td>\n",
       "      <td>data\\cases\\case_92\\case_92__image_0.jpg</td>\n",
       "      <td>data\\cases\\case_92\\case_92__image_0_watermark_...</td>\n",
       "      <td>data\\cases\\case_92\\case_92__image_0_watermark_...</td>\n",
       "      <td>data\\cases\\case_92\\case_92__image_1.jpg</td>\n",
       "      <td>data\\cases\\case_92\\case_92__image_1_watermark_...</td>\n",
       "      <td>data\\cases\\case_92\\case_92__image_1_watermark_...</td>\n",
       "    </tr>\n",
       "    <tr>\n",
       "      <th>93</th>\n",
       "      <td>93</td>\n",
       "      <td>data\\cases\\case_93\\case_93__image_0.jpg</td>\n",
       "      <td>data\\cases\\case_93\\case_93__image_0_watermark_...</td>\n",
       "      <td>data\\cases\\case_93\\case_93__image_0_watermark_...</td>\n",
       "      <td>data\\cases\\case_93\\case_93__image_1.jpg</td>\n",
       "      <td>data\\cases\\case_93\\case_93__image_1_watermark_...</td>\n",
       "      <td>data\\cases\\case_93\\case_93__image_1_watermark_...</td>\n",
       "    </tr>\n",
       "    <tr>\n",
       "      <th>94</th>\n",
       "      <td>94</td>\n",
       "      <td>data\\cases\\case_94\\case_94__image_0.jpg</td>\n",
       "      <td>data\\cases\\case_94\\case_94__image_0_watermark_...</td>\n",
       "      <td>data\\cases\\case_94\\case_94__image_0_watermark_...</td>\n",
       "      <td>data\\cases\\case_94\\case_94__image_1.jpg</td>\n",
       "      <td>data\\cases\\case_94\\case_94__image_1_watermark_...</td>\n",
       "      <td>data\\cases\\case_94\\case_94__image_1_watermark_...</td>\n",
       "    </tr>\n",
       "    <tr>\n",
       "      <th>95</th>\n",
       "      <td>95</td>\n",
       "      <td>data\\cases\\case_95\\case_95__image_0.jpg</td>\n",
       "      <td>data\\cases\\case_95\\case_95__image_0_watermark_...</td>\n",
       "      <td>data\\cases\\case_95\\case_95__image_0_watermark_...</td>\n",
       "      <td>data\\cases\\case_95\\case_95__image_1.jpg</td>\n",
       "      <td>data\\cases\\case_95\\case_95__image_1_watermark_...</td>\n",
       "      <td>data\\cases\\case_95\\case_95__image_1_watermark_...</td>\n",
       "    </tr>\n",
       "    <tr>\n",
       "      <th>96</th>\n",
       "      <td>96</td>\n",
       "      <td>data\\cases\\case_96\\case_96__image_0.jpg</td>\n",
       "      <td>data\\cases\\case_96\\case_96__image_0_watermark_...</td>\n",
       "      <td>data\\cases\\case_96\\case_96__image_0_watermark_...</td>\n",
       "      <td>data\\cases\\case_96\\case_96__image_1.jpg</td>\n",
       "      <td>data\\cases\\case_96\\case_96__image_1_watermark_...</td>\n",
       "      <td>data\\cases\\case_96\\case_96__image_1_watermark_...</td>\n",
       "    </tr>\n",
       "  </tbody>\n",
       "</table>\n",
       "<p>97 rows × 7 columns</p>\n",
       "</div>"
      ],
      "text/plain": [
       "    CASE                             IMAGE_1_PATH  \\\n",
       "0      0    data\\cases\\case_0\\case_0__image_0.jpg   \n",
       "1      1    data\\cases\\case_1\\case_1__image_0.jpg   \n",
       "12     2    data\\cases\\case_2\\case_2__image_0.jpg   \n",
       "23     3    data\\cases\\case_3\\case_3__image_0.jpg   \n",
       "34     4    data\\cases\\case_4\\case_4__image_0.jpg   \n",
       "..   ...                                      ...   \n",
       "92    92  data\\cases\\case_92\\case_92__image_0.jpg   \n",
       "93    93  data\\cases\\case_93\\case_93__image_0.jpg   \n",
       "94    94  data\\cases\\case_94\\case_94__image_0.jpg   \n",
       "95    95  data\\cases\\case_95\\case_95__image_0.jpg   \n",
       "96    96  data\\cases\\case_96\\case_96__image_0.jpg   \n",
       "\n",
       "                             IMAGE_1_WATERMARK_1_PATH  \\\n",
       "0   data\\cases\\case_0\\case_0__image_0_watermark_0.jpg   \n",
       "1   data\\cases\\case_1\\case_1__image_0_watermark_0.jpg   \n",
       "12  data\\cases\\case_2\\case_2__image_0_watermark_0.jpg   \n",
       "23  data\\cases\\case_3\\case_3__image_0_watermark_0.jpg   \n",
       "34  data\\cases\\case_4\\case_4__image_0_watermark_0.jpg   \n",
       "..                                                ...   \n",
       "92  data\\cases\\case_92\\case_92__image_0_watermark_...   \n",
       "93  data\\cases\\case_93\\case_93__image_0_watermark_...   \n",
       "94  data\\cases\\case_94\\case_94__image_0_watermark_...   \n",
       "95  data\\cases\\case_95\\case_95__image_0_watermark_...   \n",
       "96  data\\cases\\case_96\\case_96__image_0_watermark_...   \n",
       "\n",
       "                             IMAGE_1_WATERMARK_2_PATH  \\\n",
       "0   data\\cases\\case_0\\case_0__image_0_watermark_1.jpg   \n",
       "1   data\\cases\\case_1\\case_1__image_0_watermark_1.jpg   \n",
       "12  data\\cases\\case_2\\case_2__image_0_watermark_1.jpg   \n",
       "23  data\\cases\\case_3\\case_3__image_0_watermark_1.jpg   \n",
       "34  data\\cases\\case_4\\case_4__image_0_watermark_1.jpg   \n",
       "..                                                ...   \n",
       "92  data\\cases\\case_92\\case_92__image_0_watermark_...   \n",
       "93  data\\cases\\case_93\\case_93__image_0_watermark_...   \n",
       "94  data\\cases\\case_94\\case_94__image_0_watermark_...   \n",
       "95  data\\cases\\case_95\\case_95__image_0_watermark_...   \n",
       "96  data\\cases\\case_96\\case_96__image_0_watermark_...   \n",
       "\n",
       "                               IMAGE_2_PATH  \\\n",
       "0     data\\cases\\case_0\\case_0__image_1.jpg   \n",
       "1     data\\cases\\case_1\\case_1__image_1.jpg   \n",
       "12    data\\cases\\case_2\\case_2__image_1.jpg   \n",
       "23    data\\cases\\case_3\\case_3__image_1.jpg   \n",
       "34    data\\cases\\case_4\\case_4__image_1.jpg   \n",
       "..                                      ...   \n",
       "92  data\\cases\\case_92\\case_92__image_1.jpg   \n",
       "93  data\\cases\\case_93\\case_93__image_1.jpg   \n",
       "94  data\\cases\\case_94\\case_94__image_1.jpg   \n",
       "95  data\\cases\\case_95\\case_95__image_1.jpg   \n",
       "96  data\\cases\\case_96\\case_96__image_1.jpg   \n",
       "\n",
       "                             IMAGE_2_WATERMARK_1_PATH  \\\n",
       "0   data\\cases\\case_0\\case_0__image_1_watermark_0.jpg   \n",
       "1   data\\cases\\case_1\\case_1__image_1_watermark_0.jpg   \n",
       "12  data\\cases\\case_2\\case_2__image_1_watermark_0.jpg   \n",
       "23  data\\cases\\case_3\\case_3__image_1_watermark_0.jpg   \n",
       "34  data\\cases\\case_4\\case_4__image_1_watermark_0.jpg   \n",
       "..                                                ...   \n",
       "92  data\\cases\\case_92\\case_92__image_1_watermark_...   \n",
       "93  data\\cases\\case_93\\case_93__image_1_watermark_...   \n",
       "94  data\\cases\\case_94\\case_94__image_1_watermark_...   \n",
       "95  data\\cases\\case_95\\case_95__image_1_watermark_...   \n",
       "96  data\\cases\\case_96\\case_96__image_1_watermark_...   \n",
       "\n",
       "                             IMAGE_2_WATERMARK_2_PATH  \n",
       "0   data\\cases\\case_0\\case_0__image_1_watermark_1.jpg  \n",
       "1   data\\cases\\case_1\\case_1__image_1_watermark_1.jpg  \n",
       "12  data\\cases\\case_2\\case_2__image_1_watermark_1.jpg  \n",
       "23  data\\cases\\case_3\\case_3__image_1_watermark_1.jpg  \n",
       "34  data\\cases\\case_4\\case_4__image_1_watermark_1.jpg  \n",
       "..                                                ...  \n",
       "92  data\\cases\\case_92\\case_92__image_1_watermark_...  \n",
       "93  data\\cases\\case_93\\case_93__image_1_watermark_...  \n",
       "94  data\\cases\\case_94\\case_94__image_1_watermark_...  \n",
       "95  data\\cases\\case_95\\case_95__image_1_watermark_...  \n",
       "96  data\\cases\\case_96\\case_96__image_1_watermark_...  \n",
       "\n",
       "[97 rows x 7 columns]"
      ]
     },
     "execution_count": 10,
     "metadata": {},
     "output_type": "execute_result"
    }
   ],
   "source": [
    "images_path_df"
   ]
  }
 ],
 "metadata": {
  "kernelspec": {
   "display_name": "venv",
   "language": "python",
   "name": "python3"
  },
  "language_info": {
   "codemirror_mode": {
    "name": "ipython",
    "version": 3
   },
   "file_extension": ".py",
   "mimetype": "text/x-python",
   "name": "python",
   "nbconvert_exporter": "python",
   "pygments_lexer": "ipython3",
   "version": "3.10.11"
  }
 },
 "nbformat": 4,
 "nbformat_minor": 2
}
